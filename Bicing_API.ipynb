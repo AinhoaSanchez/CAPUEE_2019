{
 "cells": [
  {
   "cell_type": "markdown",
   "metadata": {},
   "source": [
    "# BICING API"
   ]
  },
  {
   "cell_type": "code",
   "execution_count": 1,
   "metadata": {},
   "outputs": [],
   "source": [
    "# import request library (by Python developers)\n",
    "import requests "
   ]
  },
  {
   "cell_type": "markdown",
   "metadata": {},
   "source": [
    "### Function definition"
   ]
  },
  {
   "cell_type": "code",
   "execution_count": 2,
   "metadata": {},
   "outputs": [],
   "source": [
    "\"\"\" Method to check if the json contains 'stations' information and return \n",
    "a array with all the data \"\"\"        \n",
    "def getArrayOfStations(jsonData):\n",
    "    # Check the elements in the json\n",
    "    for element in jsonData:\n",
    "        # If there is an element called 'stations', return the element. \n",
    "        # Otherwise, return amb empty array\n",
    "        if element == 'stations':\n",
    "            return jsonData[element]\n",
    "    return []\n",
    "\n",
    "\"\"\" Method to calculate the total number of available bikes \"\"\"\n",
    "def totalOfBikes(listOfStations):\n",
    "    sum = 0\n",
    "    # For each station, read the element 'bikes' and add it to the total\n",
    "    for station in listOfStations:\n",
    "        sum += int(station['bikes'])\n",
    "    # Return as string the 'sum' variable\n",
    "    return str(sum)"
   ]
  },
  {
   "cell_type": "markdown",
   "metadata": {},
   "source": [
    "### Main function"
   ]
  },
  {
   "cell_type": "code",
   "execution_count": null,
   "metadata": {
    "scrolled": false
   },
   "outputs": [],
   "source": [
    "\"\"\" Main function of the script, if does the GET petition and checks \n",
    "the status code of the HPPT response, if correct, read the json \"\"\"\n",
    "if __name__ == \"__main__\":\n",
    "    # Request using GET method\n",
    "    URL = 'http://wservice.viabicing.cat'\n",
    "    GET = '/v2/stations'\n",
    "    response = requests.get(url = URL+GET)\n",
    "    # Read the status code\n",
    "    status = response.status_code\n",
    "    # Check the status code\n",
    "    if status < 200:\n",
    "        print('informational')\n",
    "    # If the status code is 200, treat the information.\n",
    "    elif status >= 200 and status < 300:\n",
    "        print('ok')\n",
    "        data = response.json()\n",
    "        # Use a method to extract from the json the data of the stations\n",
    "        listOfStations = getArrayOfStations(data)\n",
    "        # For each station of the list of all the stations, read the Stret name, \n",
    "        # number, state and number of bikes\n",
    "        for station in listOfStations:\n",
    "            print(\"station of \"+station['streetName']+\" \"+station['streetNumber']\n",
    "            + \" is \"+station['status']+\" and has \"+station['bikes']+\" bikes\")\n",
    "        # Use a method to sum all the total available bikes in all the stations\n",
    "        print (\"the total of bikes is \"+totalOfBikes(listOfStations))\n",
    "    elif status >= 300 and status < 400:\n",
    "        print('redirection')\n",
    "    elif status >= 400 and status < 500:\n",
    "        print('client error')\n",
    "    else:\n",
    "        print('server error')\n",
    "        "
   ]
  },
  {
   "cell_type": "code",
   "execution_count": null,
   "metadata": {},
   "outputs": [],
   "source": []
  }
 ],
 "metadata": {
  "kernelspec": {
   "display_name": "Python 3",
   "language": "python",
   "name": "python3"
  },
  "language_info": {
   "codemirror_mode": {
    "name": "ipython",
    "version": 3
   },
   "file_extension": ".py",
   "mimetype": "text/x-python",
   "name": "python",
   "nbconvert_exporter": "python",
   "pygments_lexer": "ipython3",
   "version": "3.7.3"
  }
 },
 "nbformat": 4,
 "nbformat_minor": 2
}
